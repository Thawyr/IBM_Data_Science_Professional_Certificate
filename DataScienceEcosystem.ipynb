{
 "cells": [
  {
   "cell_type": "markdown",
   "id": "8ef24aa1",
   "metadata": {},
   "source": [
    "# Data Science Tools and Ecosystem"
   ]
  },
  {
   "cell_type": "markdown",
   "id": "c5d56223",
   "metadata": {},
   "source": [
    "In this notebook, Data Science Tools and Ecosystem are summarized."
   ]
  },
  {
   "cell_type": "markdown",
   "id": "714ec5e3",
   "metadata": {},
   "source": [
    "**Objectives:**\n",
    "- List popular languages for Data Science  \n",
    "- List commonly used libraries in Data Science  \n",
    "- Create tables in markdown  \n",
    "- Perform arithmetic operations in Python  \n",
    "- Share notebooks via GitHub"
   ]
  },
  {
   "cell_type": "markdown",
   "id": "bab7db2a",
   "metadata": {},
   "source": [
    "Some of the popular languages that Data Scientists use are:\n",
    "1. Python  \n",
    "2. R  \n",
    "3. SQL  \n",
    "4. Julia  \n",
    "5. Scala"
   ]
  },
  {
   "cell_type": "markdown",
   "id": "03fa4e4e",
   "metadata": {},
   "source": [
    "Some of the commonly used libraries used by Data Scientists include:\n",
    "1. Pandas  \n",
    "2. NumPy  \n",
    "3. Scikit-learn  \n",
    "4. Matplotlib  \n",
    "5. TensorFlow"
   ]
  },
  {
   "cell_type": "markdown",
   "id": "fcd81012",
   "metadata": {},
   "source": [
    "| Data Science Tools       |\n",
    "|--------------------------|\n",
    "| Jupyter Notebook         |\n",
    "| RStudio                  |\n",
    "| Apache Zeppelin          |"
   ]
  },
  {
   "cell_type": "markdown",
   "id": "8a2aa076",
   "metadata": {},
   "source": [
    "### Below are a few examples of evaluating arithmetic expressions in Python."
   ]
  },
  {
   "cell_type": "code",
   "execution_count": null,
   "id": "662b1237",
   "metadata": {},
   "outputs": [],
   "source": [
    "# This a simple arithmetic expression to multiply then add integers\n",
    "(3*4)+5"
   ]
  },
  {
   "cell_type": "code",
   "execution_count": null,
   "id": "d5eb6a7a",
   "metadata": {},
   "outputs": [],
   "source": [
    "# This will convert 200 minutes to hours by dividing by 60\n",
    "200 / 60"
   ]
  },
  {
   "cell_type": "markdown",
   "id": "0b37b3a6",
   "metadata": {},
   "source": [
    "## Author  \n",
    "Your Full Name Here"
   ]
  }
 ],
 "metadata": {},
 "nbformat": 4,
 "nbformat_minor": 5
}